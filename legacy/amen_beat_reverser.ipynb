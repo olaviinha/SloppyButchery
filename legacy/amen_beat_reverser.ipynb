{
  "nbformat": 4,
  "nbformat_minor": 0,
  "metadata": {
    "colab": {
      "name": "amen-beat-reverser.ipynb",
      "provenance": [],
      "collapsed_sections": [],
      "toc_visible": true,
      "authorship_tag": "ABX9TyOet2GBY/geGkIQzn4xdGvQ",
      "include_colab_link": true
    },
    "kernelspec": {
      "name": "python3",
      "display_name": "Python 3"
    }
  },
  "cells": [
    {
      "cell_type": "markdown",
      "metadata": {
        "id": "view-in-github",
        "colab_type": "text"
      },
      "source": [
        "<a href=\"https://colab.research.google.com/github/olaviinha/SloppyButcher/blob/master/amen_beat_reverser.ipynb\" target=\"_parent\"><img src=\"https://colab.research.google.com/assets/colab-badge.svg\" alt=\"Open In Colab\"/></a>"
      ]
    },
    {
      "cell_type": "markdown",
      "metadata": {
        "id": "x2ko8K7NMh0W",
        "colab_type": "text"
      },
      "source": [
        "# Beat-reverser\n",
        "\n",
        "Reverses the order of beats of an audio track using [amen](https://github.com/algorithmic-music-exploration/amen).\n",
        "\n",
        "### Howto:\n",
        "1. Type or paste something in the `input` field. `input` may be:\n",
        "  - Path to audio file in Google Drive.\n",
        "  - Path to directory in Google Drive containing multiple audio files. All audio files in directory will be processed.\n",
        "  - Youtube-link.\n",
        "  - Space-separated list of Youtube-links. Each video will be processed.\n",
        "2. Type a path to directory in your Google Drive where you want output files to be saved.\n",
        "3. Select <i>Runtime > Run all</i> from the menu.\n",
        "\n",
        "<font color=\"#f66\"><b>Note:</b></font>\n",
        "You may ignore the `DeprecationWarning: np.asscalar(a)` errors. Restart runtime after `Setup` cell if you want to get rid of them.\n",
        "<hr size=\"1\" color=\"#555\"/>\n",
        "&nbsp;"
      ]
    },
    {
      "cell_type": "code",
      "metadata": {
        "id": "ARixb3myCEKP",
        "colab_type": "code",
        "cellView": "form",
        "colab": {}
      },
      "source": [
        "#@title Mount Drive\n",
        "\n",
        "!pip -q install import-ipynb\n",
        "!curl -s -O https://raw.githubusercontent.com/olaviinha/inhagcutils/master/inhagcutils.ipynb\n",
        "import import_ipynb\n",
        "from inhagcutils import *\n",
        "\n",
        "if not os.path.isdir(drive_root):\n",
        "  from google.colab import drive\n",
        "  drive.mount('/content/drive')"
      ],
      "execution_count": null,
      "outputs": []
    },
    {
      "cell_type": "code",
      "metadata": {
        "id": "evuZQfsGCTag",
        "colab_type": "code",
        "cellView": "form",
        "colab": {}
      },
      "source": [
        "#@title Settings\n",
        "input = \"https://www.youtube.com/watch?v=64j0rPkg_0g\" #@param {type:\"string\"}\n",
        "output_dir = \"incoming/amen\" #@param {type:\"string\"}\n",
        "output_as = \"MP3_192kbps\" #@param [\"WAV\", \"MP3_192kbps\", \"Stem_separated_WAV\"]\n",
        "\n",
        "#@markdown `input`<font size=\"3\" color=\"#aaa\">: path to file in your Drive, path to directory in your Drive containing multiple files, youtube-link or space-separated list of youtube-links.</font><br>\n",
        "#@markdown `output_dir`<font size=\"3\" color=\"#aaa\">: path to dir where results are saved, relative to your Google Dirve root.</font><br>\n",
        "#@markdown `output_as`<font size=\"3\" color=\"#aaa\">: `Stem_separated_WAV` = Separate beat-reversed output into four stems via [Spleeter](https://github.com/deezer/spleeter).</font>\n",
        "\n",
        "output_dir = drive_root+output_dir\n",
        "dir_tmp = \"/content/tmp/\"\n",
        "dir_input = dir_tmp+\"input/\"\n",
        "dir_conv = dir_tmp+\"converted/\"\n",
        "dir_preview = dir_tmp+\"preview/\"\n",
        "dir_results = dir_tmp+\"results/\"\n",
        "\n",
        "reset_dirs([dir_tmp, dir_input, dir_conv, dir_preview, dir_results])\n",
        "\n",
        "input_type = check_input_type(drive_root+input)\n",
        "if input_type == \"file\":\n",
        "  input = drive_root+input\n",
        "output_dir = fix_path(output_dir)\n",
        "\n",
        "auto_override = \"-y\"\n",
        "format_wav = wav_44\n",
        "format_mp3 = mp3_192\n",
        "ffmpeg_verbose = ffmpeg_q\n",
        "youtube_verbose = youtube_q"
      ],
      "execution_count": null,
      "outputs": []
    },
    {
      "cell_type": "markdown",
      "metadata": {
        "id": "gpQJulRaWptF",
        "colab_type": "text"
      },
      "source": [
        "### Setup"
      ]
    },
    {
      "cell_type": "code",
      "metadata": {
        "id": "9zzuLTL8B8_O",
        "colab_type": "code",
        "cellView": "form",
        "colab": {}
      },
      "source": [
        "#@title Setup\n",
        "!apt-get install libsndfile1\n",
        "!pip {pip_q} install librosa --upgrade\n",
        "!pip {pip_q} install ffmpeg pysoundfile\n",
        "if input_type == \"youtube\":\n",
        "  !pip {pip_q} install youtube-dl\n",
        "if output_as == \"Stem_separated_WAV\":\n",
        "  configSpleeter()\n",
        "  !pip {pip_q}install spleeter\n",
        "%cd /content/  \n",
        "!git clone {git_q} https://github.com/algorithmic-music-exploration/amen.git\n",
        "%cd /content/amen/"
      ],
      "execution_count": null,
      "outputs": []
    },
    {
      "cell_type": "markdown",
      "metadata": {
        "id": "BBdLhQirWspx",
        "colab_type": "text"
      },
      "source": [
        "### Beat-reverse"
      ]
    },
    {
      "cell_type": "code",
      "metadata": {
        "id": "oqMJVMo-B_5s",
        "colab_type": "code",
        "cellView": "form",
        "colab": {}
      },
      "source": [
        "#@title Process\n",
        "if input_type == \"dir\":\n",
        "  !cp \"{input}*\" \"{dir_input}\"\n",
        "if input_type == \"file\":\n",
        "  !cp \"{input}\" \"{dir_input}\"\n",
        "if input_type == \"youtube\":\n",
        "  print('Fetching from Youtube...', end='')\n",
        "  !youtube-dl {youtube_verbose} --restrict-filenames -x --no-continue --audio-format wav -o \"{dir_input}%(title)s.%(ext)s\" {input}\n",
        "  print('Done.')\n",
        "\n",
        "print('Converting...', end='')\n",
        "sources = list_audio(dir_input)\n",
        "for source in sources:\n",
        "  conv_out = dir_conv+basename(source)+'.wav'\n",
        "  !ffmpeg {ffmpeg_verbose} -i \"{source}\" {format_wav} \"{conv_out}\"\n",
        "print('Done.')\n",
        "\n",
        "converted = glob(dir_conv+\"*.wav\")\n",
        "\n",
        "import amen\n",
        "#from amen.audio import Audio\n",
        "from amen.synthesize import synthesize\n",
        "\n",
        "for audio_file in converted:\n",
        "  print('\\nProcessing', path_leaf(audio_file))\n",
        "  out_file = dir_results+basename(audio_file)+'.wav'\n",
        "  print('Analyze...')\n",
        "  audio = amen.audio.Audio(audio_file)\n",
        "  beats = audio.timings['beats']\n",
        "  print('Reverse beats...')\n",
        "  beats.reverse()\n",
        "  print('Render...')\n",
        "  synthesize(beats).output(out_file)\n",
        "  if output_as == \"WAV\":\n",
        "    !cp {out_file} {output_dir}\n",
        "    out_file_leaf = path_leaf(out_file)\n",
        "    print('WAV saved to', output_dir+'/'+out_file_leaf)\n",
        "    print('Encoding preview...')\n",
        "    preview_out = dir_preview+basename(out_file)+'.mp3'\n",
        "    !ffmpeg {ffmpeg_verbose} -i \"{out_file}\" {format_mp3} \"{preview_out}\"\n",
        "    audio_player(preview_out)\n",
        "  elif output_as == \"MP3_192kbps\":\n",
        "    print('Encoding...')\n",
        "    mp3_out = output_dir+basename(out_file)+'.mp3'\n",
        "    !ffmpeg {ffmpeg_verbose} -i \"{out_file}\" {format_mp3} \"{mp3_out}\"\n",
        "    print('MP3 saved to', mp3_out)\n",
        "    audio_player(mp3_out)\n",
        "  elif output_as == \"Stem_separated_WAV\":\n",
        "    print('Separating stems...', end='')\n",
        "    !spleeter separate -i \"{out_file}\" -o \"{output_dir}\" -p /content/cfg.json\n",
        "    print('Done.')\n",
        "    print('\\nPreviews are not provided here when you select output_as Stem_separated_WAV.')"
      ],
      "execution_count": null,
      "outputs": []
    }
  ]
}
