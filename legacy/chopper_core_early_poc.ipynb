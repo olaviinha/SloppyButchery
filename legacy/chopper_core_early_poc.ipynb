{
  "nbformat": 4,
  "nbformat_minor": 0,
  "metadata": {
    "colab": {
      "name": "chopper-core.ipynb",
      "provenance": [],
      "collapsed_sections": [
        "2CfwIRuPm0zU"
      ],
      "toc_visible": true,
      "authorship_tag": "ABX9TyPjYJH/B4hTl72jOyY1KbRq",
      "include_colab_link": true
    },
    "kernelspec": {
      "name": "python3",
      "display_name": "Python 3"
    }
  },
  "cells": [
    {
      "cell_type": "markdown",
      "metadata": {
        "id": "view-in-github",
        "colab_type": "text"
      },
      "source": [
        "<a href=\"https://colab.research.google.com/github/olaviinha/SloppyButcher/blob/master/chopper_core_early-poc.ipynb\" target=\"_parent\"><img src=\"https://colab.research.google.com/assets/colab-badge.svg\" alt=\"Open In Colab\"/></a>"
      ]
    },
    {
      "cell_type": "markdown",
      "metadata": {
        "id": "aLJnEe52rOHI",
        "colab_type": "text"
      },
      "source": [
        "Chops up a Google Drive directory full of audio files into short clips, shuffles them and concatenates them according to BPM and clipsPerBeat. **Note that the output file will have the same length as your input files combined.**\n",
        "\n",
        "HOWTO:\n",
        "\n",
        "1.   Place audio files into a directory in your Google Drive.\n",
        "2.   Type the path of that directory in the `input_dir` field.\n",
        "3.   Type the desired path and filename of the output file (to be created) in the `output_file` field.\n",
        "4.   Set desired `bpm` and `clipsPerBeat`\n",
        "5.   Hit Runtime -> Run all\n",
        "6.   Audio players with preview clips will appear in the Preview section when done. Depending on the number and lengths of your input files, it may take a minute.\n",
        "\n",
        "\n"
      ]
    },
    {
      "cell_type": "code",
      "metadata": {
        "id": "PRQMXgBS9lQO",
        "colab_type": "code",
        "cellView": "form",
        "colab": {}
      },
      "source": [
        "#@title Mount Google Drive\n",
        "#@markdown Root of your Google Drive is `/content/drive/My Drive/`\n",
        "from google.colab import drive\n",
        "drive.mount('/content/drive')"
      ],
      "execution_count": null,
      "outputs": []
    },
    {
      "cell_type": "markdown",
      "metadata": {
        "id": "ElRirZTZm538",
        "colab_type": "text"
      },
      "source": [
        "### Configuration"
      ]
    },
    {
      "cell_type": "code",
      "metadata": {
        "id": "8ZqHwiqcRMBt",
        "colab_type": "code",
        "cellView": "form",
        "colab": {}
      },
      "source": [
        "input_dir = \"/content/drive/My Drive/tmp\" #@param {type:\"string\"}\n",
        "output_file = \"/content/drive/My Drive/incoming/test1.wav\" #@param {type:\"string\"}\n",
        "vol = 0.75 #@param {type:\"slider\", min:0, max:1, step:0.05}\n",
        "bpm = 120 #@param {type:\"slider\", min:100, max:200, step:1}\n",
        "clipsPerBeat = 2 #@param {type:\"slider\", min:1, max:8, step:1}\n"
      ],
      "execution_count": null,
      "outputs": []
    },
    {
      "cell_type": "markdown",
      "metadata": {
        "id": "2CfwIRuPm0zU",
        "colab_type": "text"
      },
      "source": [
        "### Rituals & magic"
      ]
    },
    {
      "cell_type": "code",
      "metadata": {
        "id": "rBBgADnfnSEr",
        "colab_type": "code",
        "colab": {}
      },
      "source": [
        "!gsutil -q -m cp -R gs://olaviinha/slicer/* /content/tmp\n",
        "%cd {input_dir}\n",
        "\n",
        "import ntpath, random, os, math, librosa\n",
        "from os import listdir\n",
        "from os.path import isfile, join\n",
        "from glob import glob\n",
        "from IPython.display import Audio\n",
        "import numpy as np\n",
        "\n",
        "vol = 0.8\n",
        "maxArgs = 3500\n",
        "min = 60\n",
        "minutekb = 16479.4921875\n",
        "allfiles = []\n",
        "allConvFiles = []\n",
        "allChopFiles = []\n",
        "\n",
        "def strList(s):\n",
        "    str1 = \" -v \" + str(vol) + \" \" \n",
        "    return (str1.join(s)) \n",
        "\n",
        "def path_leaf(path):\n",
        "    head, tail = ntpath.split(path)\n",
        "    return tail or ntpath.basename(head)\n",
        "\n",
        "def process(filelist, outputDir, type):\n",
        "  i=0\n",
        "  for file in filelist:  \n",
        "    input = file\n",
        "    if type is \"convert\":\n",
        "      output = outputDir+\"co\"+str(i)+\".wav\"\n",
        "      !ffmpeg -hide_banner -loglevel panic -y -i \"{input}\" -c:a pcm_s24le -ar 48000 -af \"pan=stereo|c0=c0|c1=c0\" \"{output}\"\n",
        "    if type is \"trim\":\n",
        "      output = outputDir+\"tr\"+str(i)+\".wav\"\n",
        "      !sox -S \"{input}\" {output} trim 0 {trim_dur}\n",
        "    i+=1\n",
        "  \n",
        "def chop(inputDir, outputDir, filelist, slice):\n",
        "  i = 0\n",
        "  for file in filelist:\n",
        "    print(file)\n",
        "    input = str(inputDir)+str(file)\n",
        "    output = str(outputDir)+\"ch\"+str(i)+\".wav\"\n",
        "    !sox -S {input} {output} trim 0 {slice} : newfile : restart\n",
        "    i+=1\n",
        "\n",
        "def removeResidue(filelist):\n",
        "  basesize = os.path.getsize(dir_chops+\"0001.wav\")\n",
        "  for file in filelist:\n",
        "    if os.path.getsize(file) < basesize:\n",
        "      !rm {file}\n"
      ],
      "execution_count": null,
      "outputs": []
    },
    {
      "cell_type": "code",
      "metadata": {
        "id": "p0ZKWlFAOPwJ",
        "colab_type": "code",
        "colab": {}
      },
      "source": [
        "allfiles = []\n",
        "for ext in ('*.wav', '*.aiff', '*.flac', '*.mp3', '*.ogg'):\n",
        "   allfiles.extend(glob(join(input_dir, ext)))\n",
        "i = 0\n",
        "for file in allfiles:\n",
        "  input = str(file)\n",
        "  name = path_leaf(str(file).split(\".\")[0])\n",
        "  output = \"/content/tmp/conv/n\"+str(i)+\".wav\"\n",
        "  !ffmpeg -hide_banner -loglevel panic -i \"{input}\" -c:a pcm_s24le -ar 48000 -af \"pan=stereo|c0=c0|c1=c0\" \"{output}\"\n",
        "  i+=1"
      ],
      "execution_count": null,
      "outputs": []
    },
    {
      "cell_type": "code",
      "metadata": {
        "id": "w5rvYRCFJ2wp",
        "colab_type": "code",
        "colab": {}
      },
      "source": [
        "allConvFiles = [f for f in listdir(\"/content/tmp/conv\") if isfile(join(\"/content/tmp/conv\", f))]\n",
        "i = 0\n",
        "for file in allConvFiles:\n",
        "  n = i\n",
        "  input = \"/content/tmp/conv/\"+str(file)\n",
        "  output = \"/content/tmp/chop/\"+str(n)+\".wav\"\n",
        "  !sox -S \"{input}\" {output} trim 0 {slice} : newfile : restart\n",
        "  i+=1"
      ],
      "execution_count": null,
      "outputs": []
    },
    {
      "cell_type": "code",
      "metadata": {
        "id": "UmMf9IH3jA32",
        "colab_type": "code",
        "colab": {}
      },
      "source": [
        "basesize = os.path.getsize('/content/tmp/chop/0001.wav')\n",
        "allChops = glob(\"/content/tmp/chop/*.wav\")\n",
        "for chop in allChops:\n",
        "   if os.path.getsize(chop) < basesize:\n",
        "     !rm {chop}\n",
        "     print('Removed', chop)"
      ],
      "execution_count": null,
      "outputs": []
    },
    {
      "cell_type": "code",
      "metadata": {
        "id": "9G_f9Rj5J7ba",
        "colab_type": "code",
        "colab": {}
      },
      "source": [
        "allChops = glob(\"/content/tmp/chop/*.wav\")\n",
        "random.shuffle(allChops)\n",
        "maxArgs = 3700\n",
        "\n",
        "if len(allChops) > maxArgs:\n",
        "  !mkdir \"/content/tmp/parts\"\n",
        "  arDivider = math.ceil(len(allChops)/maxArgs)\n",
        "  npAllChops = np.array(allChops)\n",
        "  chopPart = np.array_split(npAllChops, arDivider)\n",
        "\n",
        "  i=0;\n",
        "  for part in chopPart:\n",
        "    filelist = \"-v \" + str(vol) + \" \" + strList(part.tolist())\n",
        "    partOutFile = \"/content/tmp/parts/pt\"+str(i)+\".wav\"\n",
        "    !sox -S {filelist} -r 48000 -c 2 -b 24 {partOutFile}\n",
        "    i+=1\n",
        "\n",
        "  allParts = glob(\"/content/tmp/parts/*.wav\")\n",
        "  filelist = \"-v \" + str(vol) + \" \" + strList(allParts)\n",
        "else:\n",
        "  filelist = \"-v \" + str(vol) + \" \" + strList(allChops)\n",
        "\n",
        "print(\"Input: \"+filelist)\n",
        "!sox -S {filelist} -r 48000 -c 2 -b 24 \"{output_file}\"\n",
        "print(\"\\n>> File saved to \"+output_file)"
      ],
      "execution_count": null,
      "outputs": []
    },
    {
      "cell_type": "code",
      "metadata": {
        "id": "Pa1uRwg0ehDb",
        "colab_type": "code",
        "colab": {}
      },
      "source": [
        "!ffmpeg -hide_banner -loglevel panic -y -i \"{output_file}\" -b:a 320k -ss 0 -t 120 /content/preview.mp3\n",
        "!ffmpeg -hide_banner -loglevel panic -y -i \"{output_file}\" -ss 0 -t 120 /content/preview.wav\n",
        "baselen = 60/bpm\n",
        "kicklen1 = baselen*0.75\n",
        "kicklen2 = baselen*1.25\n",
        "!sox /content/tmp/kick-heavy.wav /content/tmp/trimmed-heavy.wav trim 0 {baselen}\n",
        "!sox /content/tmp/kick-punchy.wav /content/tmp/trimmed-punchy1.wav trim 0 {kicklen1}\n",
        "!sox /content/tmp/kick-punchy.wav /content/tmp/trimmed-punchy2.wav trim 0 {kicklen2}\n",
        "!sox /content/tmp/trimmed-punchy1.wav /content/tmp/trimmed-punchy2.wav /content/tmp/punchy-block.wav\n",
        "repeatCount = bpm*2\n",
        "!sox /content/tmp/trimmed-heavy.wav /content/tmp/loop-heavy.wav repeat {repeatCount}\n",
        "!sox /content/tmp/punchy-block.wav /content/tmp/loop-punchy.wav repeat {bpm}\n",
        "!sox -m -v 0.6 /content/tmp/loop-heavy.wav \"/content/preview.wav\" /content/tmp/out-heavy-mix.wav\n",
        "!sox -m /content/tmp/loop-punchy.wav \"/content/preview.wav\" /content/tmp/out-punchy-mix.wav\n",
        "!ffmpeg -hide_banner -loglevel panic -y -i /content/tmp/out-heavy-mix.wav -b:a 320k -ss 0 -t 120 /content/preview-heavy.mp3\n",
        "!ffmpeg -hide_banner -loglevel panic -y -i /content/tmp/out-punchy-mix.wav -b:a 320k -ss 0 -t 120 /content/preview-punchy.mp3"
      ],
      "execution_count": null,
      "outputs": []
    },
    {
      "cell_type": "markdown",
      "metadata": {
        "id": "ylQ2NzJym-wR",
        "colab_type": "text"
      },
      "source": [
        "### Previews"
      ]
    },
    {
      "cell_type": "code",
      "metadata": {
        "id": "Z_wkMT5j6sGy",
        "colab_type": "code",
        "colab": {}
      },
      "source": [
        "# Preview clip from the file saved in your Drive\n",
        "Audio(\"/content/preview.mp3\")"
      ],
      "execution_count": null,
      "outputs": []
    },
    {
      "cell_type": "code",
      "metadata": {
        "id": "QPjsMzhah9St",
        "colab_type": "code",
        "colab": {}
      },
      "source": [
        "# Preview clip with additional beat\n",
        "Audio(\"/content/preview-punchy.mp3\")"
      ],
      "execution_count": null,
      "outputs": []
    },
    {
      "cell_type": "code",
      "metadata": {
        "id": "3cjSD0MshNSo",
        "colab_type": "code",
        "colab": {}
      },
      "source": [
        "# Preview clip with additional beat\n",
        "Audio(\"/content/preview-heavy.mp3\")"
      ],
      "execution_count": null,
      "outputs": []
    }
  ]
}
