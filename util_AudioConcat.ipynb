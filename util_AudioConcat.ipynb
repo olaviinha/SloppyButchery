{
  "nbformat": 4,
  "nbformat_minor": 0,
  "metadata": {
    "colab": {
      "name": "util_AudioConcat.ipynb",
      "provenance": [],
      "collapsed_sections": [],
      "toc_visible": true,
      "mount_file_id": "13UNPlcWd06MqeXLJiR_v9barPKge9ce-",
      "authorship_tag": "ABX9TyOHC2lnlZxdI0sLd1OoHCQB",
      "include_colab_link": true
    },
    "kernelspec": {
      "name": "python3",
      "display_name": "Python 3"
    }
  },
  "cells": [
    {
      "cell_type": "markdown",
      "metadata": {
        "id": "view-in-github",
        "colab_type": "text"
      },
      "source": [
        "<a href=\"https://colab.research.google.com/github/olaviinha/SloppyButchery/blob/main/util_AudioConcat.ipynb\" target=\"_parent\"><img src=\"https://colab.research.google.com/assets/colab-badge.svg\" alt=\"Open In Colab\"/></a>"
      ]
    },
    {
      "cell_type": "markdown",
      "metadata": {
        "id": "aLJnEe52rOHI"
      },
      "source": [
        "#<font face=\"Trebuchet MS\" size=\"6\">Audio Concat <font color=\"#999\" size=\"3\">v 0.0.1<font color=\"#999\" size=\"4\">&nbsp;&nbsp;&nbsp;|&nbsp;&nbsp;&nbsp;</font><font size=\"4\">Sloppy Butchery @</font> <a href=\"https://github.com/olaviinha/SloppyButchery\" target=\"_blank\"><font color=\"#999\" size=\"4\">Github</font></a><font color=\"#999\" size=\"4\">&nbsp;&nbsp;&nbsp;|&nbsp;&nbsp;&nbsp;</font><font size=\"3\" color=\"#999\"><a href=\"https://inha.se\" target=\"_blank\"><font color=\"#999\">O. Inha</font></a></font></font>\n",
        "\n",
        "Concatenates a directory of audio files in your Google Drive into one or more WAV files. Powered by [FFmpeg](https://github.com/FFmpeg/FFmpeg) and [SoX](https://sourceforge.net/p/sox/code/ci/master/tree/).\n",
        "\n",
        "<hr size=\"1\" color=\"#666\"/>\n"
      ]
    },
    {
      "cell_type": "code",
      "metadata": {
        "id": "PRQMXgBS9lQO",
        "cellView": "form"
      },
      "source": [
        "#@title #Setup\n",
        "#@markdown This cell needs to be run only once. It will mount your Google Drive and setup prerequisities.\n",
        "\n",
        "import os\n",
        "from google.colab import output\n",
        "force_setup = False\n",
        "\n",
        "pip_packages = 'ffmpeg'\n",
        "\n",
        "# inhagcutils\n",
        "if not os.path.isfile('/content/inhagcutils.ipynb') and force_setup == False:\n",
        "  %cd /content/\n",
        "  !pip -q install import-ipynb {pip_packages}\n",
        "  !curl -s -O https://raw.githubusercontent.com/olaviinha/inhagcutils/master/inhagcutils.ipynb\n",
        "import import_ipynb\n",
        "from inhagcutils import *\n",
        "\n",
        "# Mount Drive\n",
        "if not os.path.isdir('/content/drive') and force_setup == False:\n",
        "  from google.colab import drive\n",
        "  drive.mount('/content/drive')\n",
        "\n",
        "# Drive symlink\n",
        "if not os.path.isdir('/content/mydrive') and force_setup == False:\n",
        "  os.symlink('/content/drive/My Drive', '/content/mydrive')\n",
        "  drive_root_set = True\n",
        "drive_root = '/content/mydrive/'\n",
        "\n",
        "dir_tmp = '/content/tmp/'\n",
        "create_dirs([dir_tmp])\n",
        "\n",
        "import soundfile\n",
        "import warnings\n",
        "warnings.simplefilter(action='ignore', category=FutureWarning)\n",
        "nper = np.seterr(divide = 'ignore') \n",
        "\n",
        "!apt-get {apt_q} install sox\n",
        "def chunker(seq, size):\n",
        "  return (seq[i::size] for i in range(size))\n",
        "\n",
        "output.clear()\n",
        "op(c.ok, 'Setup finished.')\n"
      ],
      "execution_count": null,
      "outputs": []
    },
    {
      "cell_type": "code",
      "metadata": {
        "id": "8ZqHwiqcRMBt",
        "cellView": "form"
      },
      "source": [
        "#@title Concatenate\n",
        "\n",
        "input_dir = \"wavs\" #@param {type:\"string\"}\n",
        "output_file = \"wavs/concat.wav\" #@param {type:\"string\"}\n",
        "#@markdown <small>Concatenate into this many evenly sized files (concat-1.wav, concat-2.wav, etc.)</small>\n",
        "number_of_output_files = 1 #@param {type:\"slider\", min:1, max:10, step:1}\n",
        "\n",
        "vol = 0.95 #@param {type:\"slider\", min:0, max:1, step:0.05}\n",
        "concat_order = \"Alphabetical\" #@param [\"Alphabetical\", \"Randomized\"]\n",
        "#@markdown <small>Convert all audio files before concatenation. This is required if your `input_dir` contains audio files in more than one format (e.g. 44.1 kHz and 48 kHz or 16 bit and 24 bit).</small>\n",
        "convert = \"44.1kHz_WAV\" #@param [\"None\", \"44.1kHz_WAV\", \"48kHz_WAV\"]\n",
        "#@markdown <small>Create audio player at the end to play the concatenated output_file. Use only if your output_file is going to be short, otherwise Colab will crash.</small>\n",
        "preview = False #@param {type:\"boolean\"}\n",
        "\n",
        "input_dir = fix_path(drive_root+input_dir)\n",
        "output_file = drive_root+output_file\n",
        "\n",
        "if os.path.isfile(output_file):\n",
        "  !rm \"{output_file}\"\n",
        "if not os.path.isdir(dir_tmp):\n",
        "  dir_tmp = '/content/tmp/'\n",
        "  dir_conv = dir_tmp+\"conv/\"\n",
        "  create_dirs([dir_tmp, dir_conv])\n",
        "if convert != 'None':\n",
        "  !pip {pip_q} install ffmpeg\n",
        "\n",
        "%cd {input_dir}\n",
        "allfiles = list_audio(input_dir)\n",
        "if convert != 'None':\n",
        "  for i, file in enumerate(allfiles):\n",
        "    input = str(file)\n",
        "    output = dir_conv+'n'+str(i)+'.wav'\n",
        "    if convert == '44.1kHz_WAV':\n",
        "      conv_format = wav_44\n",
        "    elif convert == '48kHz_WAV':\n",
        "      conv_format = wav_48\n",
        "    !ffmpeg {ffmpeg_q} -y -i \"{input}\" {conv_format} -af \"pan=stereo|c0=c0|c1=c0\" \"{output}\"\n",
        "  allfiles = list_audio(dir_conv)\n",
        "if concat_order is \"Alphabetical\":\n",
        "  allfiles.sort()\n",
        "else:\n",
        "  random.shuffle(allfiles)\n",
        "divider = math.ceil(len(allfiles)/number_of_output_files)\n",
        "filelists = [allfiles[x:x+divider] for x in range(0, len(allfiles), divider)]\n",
        "number_files = False\n",
        "if len(filelists) > 1:\n",
        "  number_files = True\n",
        "print('Concat in progress...')\n",
        "for i, filelist in enumerate(filelists):\n",
        "  filelist_len = len(filelist)\n",
        "  filelist = concat_list('-v '+str(vol), filelist)\n",
        "  if number_files == True:\n",
        "    output_file_f = path_dir(output_file)+basename(output_file)+'-'+str(i+1)+'.wav'\n",
        "  !sox {filelist} \"{output_file_f}\"\n",
        "  print(filelist_len, 'files concatenated to', output_file_f)\n",
        "print('Done.')\n",
        "if preview is True:\n",
        "  Audio(output_file)"
      ],
      "execution_count": null,
      "outputs": []
    }
  ]
}